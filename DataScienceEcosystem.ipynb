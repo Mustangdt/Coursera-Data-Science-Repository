{
 "cells": [
  {
   "cell_type": "markdown",
   "id": "aa761bd7-e8b4-475e-8e71-8ac0e14749cf",
   "metadata": {},
   "source": [
    "# Data Science Tools and Ecosystem"
   ]
  },
  {
   "cell_type": "markdown",
   "id": "59b118b6-4159-43d7-b5c5-ba0ed0e95d0c",
   "metadata": {},
   "source": [
    "In this notebook, Data Science Tools and Ecosystem are summarized."
   ]
  },
  {
   "cell_type": "markdown",
   "id": "f9576b6d-0318-4e69-8700-ab9c37d9eee9",
   "metadata": {},
   "source": [
    "**Objectives:**\n",
    "-  How to evaluate arithmetic expressions in python and the jupyter notebook.\n",
    "-  Summarizing Popular languages that a data scientist might use in their profession.\n",
    "-  To Summarize commonly used libraries a Data Scientist might use in the pro\n",
    "-  To Provide us with practice in utilizing the Jupyter notebook and the capabilities it offers.\n",
    "-  Identifying tools in Anaconda environments and working with Kernels."
   ]
  },
  {
   "cell_type": "markdown",
   "id": "690c46fe-7345-4755-acae-2cb27ec6c4ad",
   "metadata": {},
   "source": [
    "Some of the popular languages that Data Scientists use are:\n",
    "1. Python.\n",
    "2. SQL\n",
    "3. R\n",
    "4. C++\n",
    "5. Java\n",
    "6. Scala"
   ]
  },
  {
   "cell_type": "markdown",
   "id": "4380723e-df76-4778-bfe1-2c2d92dcb339",
   "metadata": {},
   "source": [
    "Some of the commonly used libraries used by Data Scientists include:\n",
    "1. Pandas\n",
    "2. Numpy\n",
    "3. Matplotlib\n",
    "4. Seaborn\n",
    "5. Scikit-Learn\n",
    "6. Keras"
   ]
  },
  {
   "cell_type": "markdown",
   "id": "a782b651-2617-46b8-8545-072384ea22cc",
   "metadata": {},
   "source": [
    "| Data Science Tools |\n",
    "| --- |\n",
    "| Jupyter |\n",
    "| R Studios |\n",
    "| Spyder |"
   ]
  },
  {
   "cell_type": "markdown",
   "id": "a0daa926-3f67-467f-8dab-36f42fa0a075",
   "metadata": {},
   "source": [
    "### Below are a few examples of evaluating arithmetic expressions in Python."
   ]
  },
  {
   "cell_type": "code",
   "execution_count": 1,
   "id": "51823a91-ce7e-43bc-ab49-12dc1d0e1d9c",
   "metadata": {
    "tags": []
   },
   "outputs": [
    {
     "data": {
      "text/plain": [
       "17"
      ]
     },
     "execution_count": 1,
     "metadata": {},
     "output_type": "execute_result"
    }
   ],
   "source": [
    "# This is simple arithmetic expression to multiply then add integers.\n",
    "(3 * 4) + 5"
   ]
  },
  {
   "cell_type": "markdown",
   "id": "124cef91-5e75-4d70-aa52-b782a90e5b75",
   "metadata": {},
   "source": [
    "This will Convert 200 minutes to hours by dividing by 60."
   ]
  },
  {
   "cell_type": "code",
   "execution_count": 9,
   "id": "dc93ce41-e74d-4d80-a710-9a4ec9a16bc2",
   "metadata": {
    "tags": []
   },
   "outputs": [
    {
     "data": {
      "text/plain": [
       "3.3333333333333335"
      ]
     },
     "execution_count": 9,
     "metadata": {},
     "output_type": "execute_result"
    }
   ],
   "source": [
    "200 / 60 "
   ]
  },
  {
   "cell_type": "code",
   "execution_count": null,
   "id": "8c7cf05e-0398-440a-becf-b70c9367759b",
   "metadata": {},
   "outputs": [],
   "source": []
  },
  {
   "cell_type": "markdown",
   "id": "e23465fc-137d-406a-8110-600a4e1cb512",
   "metadata": {},
   "source": [
    "## Author\n",
    "Derek Plank"
   ]
  }
 ],
 "metadata": {
  "kernelspec": {
   "display_name": "Python",
   "language": "python",
   "name": "conda-env-python-py"
  },
  "language_info": {
   "codemirror_mode": {
    "name": "ipython",
    "version": 3
   },
   "file_extension": ".py",
   "mimetype": "text/x-python",
   "name": "python",
   "nbconvert_exporter": "python",
   "pygments_lexer": "ipython3",
   "version": "3.7.12"
  }
 },
 "nbformat": 4,
 "nbformat_minor": 5
}
